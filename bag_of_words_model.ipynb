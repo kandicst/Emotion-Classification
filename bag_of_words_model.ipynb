{
  "nbformat": 4,
  "nbformat_minor": 0,
  "metadata": {
    "colab": {
      "name": "bag_of_words_model.ipynb",
      "provenance": [],
      "collapsed_sections": [],
      "toc_visible": true,
      "machine_shape": "hm",
      "authorship_tag": "ABX9TyPmi0lx7kKqBT3YFyaYIvXK",
      "include_colab_link": true
    },
    "kernelspec": {
      "name": "python3",
      "display_name": "Python 3"
    }
  },
  "cells": [
    {
      "cell_type": "markdown",
      "metadata": {
        "id": "view-in-github",
        "colab_type": "text"
      },
      "source": [
        "<a href=\"https://colab.research.google.com/github/ssttefann/EmotionClassification/blob/master/bag_of_words_model.ipynb\" target=\"_parent\"><img src=\"https://colab.research.google.com/assets/colab-badge.svg\" alt=\"Open In Colab\"/></a>"
      ]
    },
    {
      "cell_type": "markdown",
      "metadata": {
        "id": "4rlS4krpSDHe",
        "colab_type": "text"
      },
      "source": [
        "# **Emotion Classificaton in Text**"
      ]
    },
    {
      "cell_type": "code",
      "metadata": {
        "id": "A0B3wIxjSHC4",
        "colab_type": "code",
        "outputId": "a3a9d1bc-a229-4ac7-bf39-3f98d2cf701a",
        "colab": {
          "base_uri": "https://localhost:8080/",
          "height": 34
        }
      },
      "source": [
        "from __future__ import absolute_import, division, print_function, unicode_literals\n",
        "\n",
        "import numpy as np\n",
        "import pandas as pd\n",
        "import matplotlib.pyplot as plt\n",
        "%matplotlib inline\n",
        "plt.style.use('ggplot') \n",
        "# plt.style.use('dark_background')\n",
        "\n",
        "try:\n",
        "  import pyprind\n",
        "except Exception:\n",
        "  !pip install pyprind\n",
        "\n",
        "\n",
        "from nltk.stem.porter import PorterStemmer\n",
        "from nltk.corpus import stopwords\n",
        "\n",
        "from sklearn.feature_extraction.text import CountVectorizer\n",
        "from sklearn.feature_extraction.text import HashingVectorizer\n",
        "from sklearn.linear_model import SGDClassifier\n",
        "\n",
        "from google.colab import drive\n",
        "drive.mount('/content/drive')"
      ],
      "execution_count": 16,
      "outputs": [
        {
          "output_type": "stream",
          "text": [
            "Drive already mounted at /content/drive; to attempt to forcibly remount, call drive.mount(\"/content/drive\", force_remount=True).\n"
          ],
          "name": "stdout"
        }
      ]
    },
    {
      "cell_type": "markdown",
      "metadata": {
        "id": "VKq4x_Smhq6A",
        "colab_type": "text"
      },
      "source": [
        "# Loading the data"
      ]
    },
    {
      "cell_type": "code",
      "metadata": {
        "id": "5zlyZh-3SumV",
        "colab_type": "code",
        "outputId": "de3ff2ac-64cc-4754-80c4-8ae09bef5e24",
        "colab": {
          "base_uri": "https://localhost:8080/",
          "height": 204
        }
      },
      "source": [
        "# set the seed for entire process\n",
        "# so that results can be reproducible\n",
        "np.random.seed(123)\n",
        "\n",
        "dataset = pd.read_csv(\"/content/drive/My Drive/emotion.data\")\n",
        "dataset.drop(dataset.columns[0], axis='columns', inplace=True)    # drop id column since it won't be used \n",
        "dataset = dataset.reindex(np.random.permutation(dataset.index))   # shuffle data \n",
        "dataset.head()"
      ],
      "execution_count": 6,
      "outputs": [
        {
          "output_type": "execute_result",
          "data": {
            "text/html": [
              "<div>\n",
              "<style scoped>\n",
              "    .dataframe tbody tr th:only-of-type {\n",
              "        vertical-align: middle;\n",
              "    }\n",
              "\n",
              "    .dataframe tbody tr th {\n",
              "        vertical-align: top;\n",
              "    }\n",
              "\n",
              "    .dataframe thead th {\n",
              "        text-align: right;\n",
              "    }\n",
              "</style>\n",
              "<table border=\"1\" class=\"dataframe\">\n",
              "  <thead>\n",
              "    <tr style=\"text-align: right;\">\n",
              "      <th></th>\n",
              "      <th>text</th>\n",
              "      <th>emotions</th>\n",
              "    </tr>\n",
              "  </thead>\n",
              "  <tbody>\n",
              "    <tr>\n",
              "      <th>98301</th>\n",
              "      <td>i am feeling melancholy and have finally pinpo...</td>\n",
              "      <td>sadness</td>\n",
              "    </tr>\n",
              "    <tr>\n",
              "      <th>41147</th>\n",
              "      <td>i miss having someone to talk to who i have th...</td>\n",
              "      <td>joy</td>\n",
              "    </tr>\n",
              "    <tr>\n",
              "      <th>151024</th>\n",
              "      <td>i just feel like i get blamed for everything</td>\n",
              "      <td>sadness</td>\n",
              "    </tr>\n",
              "    <tr>\n",
              "      <th>202104</th>\n",
              "      <td>i also apologize for mentioning about him in m...</td>\n",
              "      <td>anger</td>\n",
              "    </tr>\n",
              "    <tr>\n",
              "      <th>73602</th>\n",
              "      <td>im finding is the difference in having a life ...</td>\n",
              "      <td>joy</td>\n",
              "    </tr>\n",
              "  </tbody>\n",
              "</table>\n",
              "</div>"
            ],
            "text/plain": [
              "                                                     text emotions\n",
              "98301   i am feeling melancholy and have finally pinpo...  sadness\n",
              "41147   i miss having someone to talk to who i have th...      joy\n",
              "151024       i just feel like i get blamed for everything  sadness\n",
              "202104  i also apologize for mentioning about him in m...    anger\n",
              "73602   im finding is the difference in having a life ...      joy"
            ]
          },
          "metadata": {
            "tags": []
          },
          "execution_count": 6
        }
      ]
    },
    {
      "cell_type": "code",
      "metadata": {
        "id": "De2KKYJecsQh",
        "colab_type": "code",
        "outputId": "aefea708-01cb-49f8-b571-9bf55d5ee07d",
        "colab": {
          "base_uri": "https://localhost:8080/",
          "height": 34
        }
      },
      "source": [
        "dataset.shape"
      ],
      "execution_count": 7,
      "outputs": [
        {
          "output_type": "execute_result",
          "data": {
            "text/plain": [
              "(416809, 2)"
            ]
          },
          "metadata": {
            "tags": []
          },
          "execution_count": 7
        }
      ]
    },
    {
      "cell_type": "code",
      "metadata": {
        "id": "FPZwdzeJa6A7",
        "colab_type": "code",
        "outputId": "0be18288-6606-4c19-9866-dfcbd37dd3be",
        "colab": {
          "base_uri": "https://localhost:8080/",
          "height": 299
        }
      },
      "source": [
        "#x_ax = np.unique(dataset['emotions'])\n",
        "x_ax = ['joy', 'sadness', 'anger', 'fear', 'love', 'surprise']\n",
        "y_ax = [ np.count_nonzero(dataset['emotions'] == x) for x in x_ax]\n",
        "\n",
        "plt.bar(x_ax, y_ax, color='lightblue')\n",
        "plt.title(\"Distribution of emotions in dataset\")\n",
        "plt.xlabel(\"Emotion\")\n",
        "plt.ylabel(\"Number of occurences\")\n",
        "plt.show()"
      ],
      "execution_count": 8,
      "outputs": [
        {
          "output_type": "display_data",
          "data": {
            "image/png": "[encoded data removed]",
            "text/plain": [
              "<Figure size 432x288 with 1 Axes>"
            ]
          },
          "metadata": {
            "tags": []
          }
        }
      ]
    },
    {
      "cell_type": "code",
      "metadata": {
        "id": "2H7S9DAWzgLP",
        "colab_type": "code",
        "outputId": "09623681-5424-40be-f683-33a65e85cd24",
        "colab": {
          "base_uri": "https://localhost:8080/",
          "height": 51
        }
      },
      "source": [
        "label2id = {\"joy\" : 0, \"sadness\" : 1, \"anger\" : 2, \"fear\" : 3, \"love\" : 4, \"surprise\" : 5}\n",
        "id2label = {0 : \"joy\", 1 : \"sadness\", 2 : \"anger\", 3 : \"fear\", 4 : \"love\", 5 : \"surprise\"}\n",
        "\n",
        "# label2id = { label : idx for idx, label in enumerate(set(dataset['emotions'].values))}\n",
        "# id2label = { id : label for label, id in label2id.items()}\n",
        "\n",
        "print(label2id)\n",
        "print(id2label)"
      ],
      "execution_count": 9,
      "outputs": [
        {
          "output_type": "stream",
          "text": [
            "{'joy': 0, 'sadness': 1, 'anger': 2, 'fear': 3, 'love': 4, 'surprise': 5}\n",
            "{0: 'joy', 1: 'sadness', 2: 'anger', 3: 'fear', 4: 'love', 5: 'surprise'}\n"
          ],
          "name": "stdout"
        }
      ]
    },
    {
      "cell_type": "code",
      "metadata": {
        "id": "rRKPFdGqyQX6",
        "colab_type": "code",
        "colab": {}
      },
      "source": [
        "from sklearn.model_selection import train_test_split\n",
        "\n",
        "X_train, X_test, y_train, y_test = train_test_split(dataset['text'].values, \n",
        "                                                    dataset['emotions'].values, \n",
        "                                                    test_size=0.1, \n",
        "                                                    random_state=123)"
      ],
      "execution_count": 0,
      "outputs": []
    },
    {
      "cell_type": "code",
      "metadata": {
        "id": "OBVUfnjkziFU",
        "colab_type": "code",
        "colab": {}
      },
      "source": [
        "y_train = [ label2id[val] for val in y_train]\n",
        "y_test =  [ label2id[val] for val in y_test]"
      ],
      "execution_count": 0,
      "outputs": []
    },
    {
      "cell_type": "markdown",
      "metadata": {
        "id": "-hbldigY7Dm5",
        "colab_type": "text"
      },
      "source": [
        "# Preprocessing\n"
      ]
    },
    {
      "cell_type": "markdown",
      "metadata": {
        "id": "-vSaSxyk7M02",
        "colab_type": "text"
      },
      "source": [
        " ## Stop words\n"
      ]
    },
    {
      "cell_type": "code",
      "metadata": {
        "id": "fzC419kq7Qhw",
        "colab_type": "code",
        "colab": {
          "base_uri": "https://localhost:8080/",
          "height": 51
        },
        "outputId": "dff1faff-7c75-4455-d2d2-9c21806f4881"
      },
      "source": [
        "try:\n",
        "  stop = stopwords.words('english')\n",
        "except LookupError:\n",
        "  import nltk\n",
        "  nltk.download('stopwords')\n",
        "  stop = stopwords.words('english')"
      ],
      "execution_count": 15,
      "outputs": [
        {
          "output_type": "stream",
          "text": [
            "[nltk_data] Downloading package stopwords to /root/nltk_data...\n",
            "[nltk_data]   Unzipping corpora/stopwords.zip.\n"
          ],
          "name": "stdout"
        }
      ]
    },
    {
      "cell_type": "markdown",
      "metadata": {
        "id": "0YMDnxjY8AA5",
        "colab_type": "text"
      },
      "source": [
        "## Tokenezing"
      ]
    },
    {
      "cell_type": "code",
      "metadata": {
        "id": "P_CcyPH5Zbqo",
        "colab_type": "code",
        "colab": {}
      },
      "source": [
        "\n",
        "def tokenizer(text):\n",
        "    ''' Removes stop words and special characters,\n",
        "        and returns list of all words that are left\n",
        "\n",
        "        Parameters\n",
        "        -----------\n",
        "        text : string \n",
        "\n",
        "        Returns\n",
        "        ----------\n",
        "        tokenized : list {string}\n",
        "    '''\n",
        "\n",
        "    text = re.sub('<[^>]*>', '', text)\n",
        "    text = re.sub('[\\W]+', ' ', text.lower()).replace('-', '')\n",
        "    tokenized = [w for w in text.split() if w not in stop]\n",
        "    return tokenized\n"
      ],
      "execution_count": 0,
      "outputs": []
    },
    {
      "cell_type": "markdown",
      "metadata": {
        "id": "QvB19fPF70DP",
        "colab_type": "text"
      },
      "source": [
        "## Stemming\n"
      ]
    },
    {
      "cell_type": "code",
      "metadata": {
        "id": "sNmwaXgd8Ihp",
        "colab_type": "code",
        "colab": {}
      },
      "source": [
        "porter = PorterStemmer() \n",
        "def tokenizer_porter(text):\n",
        "  return [porter.stem(word) for word in tokenizer(text)]"
      ],
      "execution_count": 0,
      "outputs": []
    },
    {
      "cell_type": "markdown",
      "metadata": {
        "id": "10X5WvRI8Pq9",
        "colab_type": "text"
      },
      "source": [
        "## Vectorization"
      ]
    },
    {
      "cell_type": "code",
      "metadata": {
        "id": "oAg099A2fIEJ",
        "colab_type": "code",
        "colab": {}
      },
      "source": [
        "# Hashing vectorizer\n",
        "vect = HashingVectorizer(decode_error='ignore', \n",
        "                         n_features=2**18,\n",
        "                         preprocessor=None, \n",
        "                         ngram_range=(1, 1),\n",
        "                         tokenizer=tokenizer)"
      ],
      "execution_count": 0,
      "outputs": []
    },
    {
      "cell_type": "code",
      "metadata": {
        "id": "fleKra6p1-fy",
        "colab_type": "code",
        "colab": {
          "base_uri": "https://localhost:8080/",
          "height": 68
        },
        "outputId": "e56ddae3-b687-4278-f403-e7269fa487c5"
      },
      "source": [
        "\n",
        "mat = vect.transform(['I am world mega tzar'])\n",
        "print(mat[0][0])"
      ],
      "execution_count": 470,
      "outputs": [
        {
          "output_type": "stream",
          "text": [
            "  (0, 1)\t0.5773502691896258\n",
            "  (0, 2)\t-0.5773502691896258\n",
            "  (0, 4)\t-0.5773502691896258\n"
          ],
          "name": "stdout"
        }
      ]
    },
    {
      "cell_type": "markdown",
      "metadata": {
        "id": "ux9CHDfahmcy",
        "colab_type": "text"
      },
      "source": [
        "# Training the model\n"
      ]
    },
    {
      "cell_type": "code",
      "metadata": {
        "id": "30isv5kUqU2r",
        "colab_type": "code",
        "colab": {}
      },
      "source": [
        "# By setting the los parameter to log loss this becomes a Logistic Regression Classifier\n",
        "clf = SGDClassifier(loss='log', random_state=1, max_iter=1)\n",
        "\n",
        "num_epochs = 100\n",
        "pbar = pyprind.ProgBar(num_epochs)\n",
        "classes = [x for x in label2id.values()]\n",
        "\n",
        "for i in range(num_epochs):\n",
        "\n",
        "    # number of elements in one batch\n",
        "    size = int(len(X_train) / num_epochs)\n",
        "\n",
        "    #starting index of a batch\n",
        "    start = size * i\n",
        "\n",
        "    #last index of a batch\n",
        "    end = start + size \n",
        "\n",
        "    batch_x = X_train[start : end]\n",
        "    batch_y = y_train[start : end]\n",
        "\n",
        "    batch_x = vect.transform(batch_x)\n",
        "    clf.partial_fit(batch_x, batch_y, classes=classes)\n",
        "    pbar.update()\n",
        "\n",
        "# some elements are possibly left over because of integer division\n",
        "# so do one final partial fit\n",
        "batch_x = X_train[end : ]\n",
        "batch_y = y_train[end : ]\n",
        "\n",
        "batch_x = vect.transform(batch_x)\n",
        "clf.partial_fit(batch_x, batch_y, classes=classes)\n",
        "pbar.update()"
      ],
      "execution_count": 0,
      "outputs": []
    },
    {
      "cell_type": "markdown",
      "metadata": {
        "id": "HAcOqpDumdLD",
        "colab_type": "text"
      },
      "source": [
        "# Evaluating the model performance\n"
      ]
    },
    {
      "cell_type": "code",
      "metadata": {
        "id": "KXA9pM08f3vV",
        "colab_type": "code",
        "outputId": "070a3f40-23c3-4c16-9518-b19fd0285482",
        "colab": {
          "base_uri": "https://localhost:8080/",
          "height": 34
        }
      },
      "source": [
        "test = vect.transform(X_test)\n",
        "print('Accuracy: %.3f' % clf.score(test, y_test))"
      ],
      "execution_count": 493,
      "outputs": [
        {
          "output_type": "stream",
          "text": [
            "Accuracy: 0.795\n"
          ],
          "name": "stdout"
        }
      ]
    },
    {
      "cell_type": "markdown",
      "metadata": {
        "id": "sZH4E9Bpk-U3",
        "colab_type": "text"
      },
      "source": [
        "# Testing on custom data"
      ]
    },
    {
      "cell_type": "code",
      "metadata": {
        "id": "B6QLE_0wufTq",
        "colab_type": "code",
        "colab": {}
      },
      "source": [
        "def predict(text, clf=clf, vectorizer=vect):\n",
        "  ''' Predicts the label of the given text input\n",
        "\n",
        "  Parameters\n",
        "  ----------- \n",
        "  text : string\n",
        "    text whose emotion we want to interpret\n",
        "  clf : sklearn.linear_model\n",
        "    Classifier\n",
        "  vectorizer : sklearn.feature_extraction.text\n",
        "    Vectorizer that represents text in a numerical form\n",
        "  \n",
        "  Returns \n",
        "  ----------\n",
        "  label : string\n",
        "    name of emotion which corresponds to the input\n",
        "\n",
        "  '''\n",
        "\n",
        "  val = clf.predict(vectorizer.transform([text]))\n",
        "  return id2label[val[0]]"
      ],
      "execution_count": 0,
      "outputs": []
    },
    {
      "cell_type": "code",
      "metadata": {
        "id": "Q0cbaKRH_bCE",
        "colab_type": "code",
        "outputId": "dfd6a59b-ffc1-4b9d-e9ba-c31c8de58239",
        "colab": {
          "base_uri": "https://localhost:8080/",
          "height": 34
        }
      },
      "source": [
        "predict(\"Today has been a disaster so far\")"
      ],
      "execution_count": 0,
      "outputs": [
        {
          "output_type": "execute_result",
          "data": {
            "text/plain": [
              "'joy'"
            ]
          },
          "metadata": {
            "tags": []
          },
          "execution_count": 429
        }
      ]
    },
    {
      "cell_type": "code",
      "metadata": {
        "id": "x4I-mUKdu05i",
        "colab_type": "code",
        "outputId": "6b450527-6ab2-4c9d-f3d5-9305b4333c74",
        "colab": {
          "base_uri": "https://localhost:8080/",
          "height": 34
        }
      },
      "source": [
        "predict(\"Today has been a disaster so far. I feel so tired because my stupid boss made me do all his work\")"
      ],
      "execution_count": 0,
      "outputs": [
        {
          "output_type": "execute_result",
          "data": {
            "text/plain": [
              "'sadness'"
            ]
          },
          "metadata": {
            "tags": []
          },
          "execution_count": 430
        }
      ]
    },
    {
      "cell_type": "code",
      "metadata": {
        "id": "bJ7J5DlUvom1",
        "colab_type": "code",
        "colab": {}
      },
      "source": [
        "predict(\"The cucumber looked great, but when I peeled it off, some of it fell apart. But the rest still tasted fine I guess\")"
      ],
      "execution_count": 0,
      "outputs": []
    },
    {
      "cell_type": "code",
      "metadata": {
        "id": "D5rnz8PrTd5E",
        "colab_type": "code",
        "outputId": "6096c4e4-6c3a-41e7-8e11-bfa8b767f215",
        "colab": {
          "base_uri": "https://localhost:8080/",
          "height": 34
        }
      },
      "source": [
        "predict(\"My mom is so stubborn she won't let me go anywhere!\")"
      ],
      "execution_count": 440,
      "outputs": [
        {
          "output_type": "execute_result",
          "data": {
            "text/plain": [
              "'surprise'"
            ]
          },
          "metadata": {
            "tags": []
          },
          "execution_count": 440
        }
      ]
    },
    {
      "cell_type": "code",
      "metadata": {
        "id": "MLY-zypPUZQH",
        "colab_type": "code",
        "outputId": "b1bdfe46-7b30-49c7-9a48-32bc698dddc2",
        "colab": {
          "base_uri": "https://localhost:8080/",
          "height": 34
        }
      },
      "source": [
        "predict(\"When I found out Kobe Bryant died, i was shocked!\")"
      ],
      "execution_count": 451,
      "outputs": [
        {
          "output_type": "execute_result",
          "data": {
            "text/plain": [
              "'surprise'"
            ]
          },
          "metadata": {
            "tags": []
          },
          "execution_count": 451
        }
      ]
    },
    {
      "cell_type": "code",
      "metadata": {
        "id": "-3YatibuV0Dq",
        "colab_type": "code",
        "outputId": "978f8e26-3da8-40eb-ee2f-23cfe7aad17e",
        "colab": {
          "base_uri": "https://localhost:8080/",
          "height": 51
        }
      },
      "source": [
        "clf.decision_function(vect.transform([\"Today has been a disaster so far\"]))"
      ],
      "execution_count": 0,
      "outputs": [
        {
          "output_type": "execute_result",
          "data": {
            "text/plain": [
              "array([[-0.2515987 , -1.35084614, -1.66514546, -2.52430844, -2.18387111,\n",
              "        -3.02946218]])"
            ]
          },
          "metadata": {
            "tags": []
          },
          "execution_count": 375
        }
      ]
    },
    {
      "cell_type": "code",
      "metadata": {
        "id": "l3QM0UWl1xuk",
        "colab_type": "code",
        "colab": {
          "base_uri": "https://localhost:8080/",
          "height": 34
        },
        "outputId": "5560a512-9196-444d-a212-492a45d733b9"
      },
      "source": [
        "predict(\"I am not happy\")"
      ],
      "execution_count": 494,
      "outputs": [
        {
          "output_type": "execute_result",
          "data": {
            "text/plain": [
              "'joy'"
            ]
          },
          "metadata": {
            "tags": []
          },
          "execution_count": 494
        }
      ]
    }
  ]
}
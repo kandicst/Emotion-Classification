{
  "nbformat": 4,
  "nbformat_minor": 0,
  "metadata": {
    "colab": {
      "name": "bag_of_words_model.ipynb",
      "provenance": [],
      "collapsed_sections": [],
      "toc_visible": true,
      "authorship_tag": "ABX9TyMkMvxMMquXn8BRqZqYtKjf",
      "include_colab_link": true
    },
    "kernelspec": {
      "name": "python3",
      "display_name": "Python 3"
    }
  },
  "cells": [
    {
      "cell_type": "markdown",
      "metadata": {
        "id": "view-in-github",
        "colab_type": "text"
      },
      "source": [
        "<a href=\"https://colab.research.google.com/github/ssttefann/EmotionClassification/blob/master/bag_of_words_model.ipynb\" target=\"_parent\"><img src=\"https://colab.research.google.com/assets/colab-badge.svg\" alt=\"Open In Colab\"/></a>"
      ]
    },
    {
      "cell_type": "markdown",
      "metadata": {
        "id": "4rlS4krpSDHe",
        "colab_type": "text"
      },
      "source": [
        "# **Emotion Classificaton in Text**"
      ]
    },
    {
      "cell_type": "code",
      "metadata": {
        "id": "A0B3wIxjSHC4",
        "colab_type": "code",
        "outputId": "aaea9674-ccb7-4c32-bd87-8d56ab978dc4",
        "colab": {
          "base_uri": "https://localhost:8080/",
          "height": 34
        }
      },
      "source": [
        "from __future__ import absolute_import, division, print_function, unicode_literals\n",
        "\n",
        "import numpy as np\n",
        "import pandas as pd\n",
        "import matplotlib.pyplot as plt\n",
        "%matplotlib inline\n",
        "plt.style.use('ggplot') \n",
        "# plt.style.use('dark_background')\n",
        "\n",
        "#!pip install pyprind\n",
        "import pyprind\n",
        "from sklearn.feature_extraction.text import CountVectorizer\n",
        "from sklearn.feature_extraction.text import HashingVectorizer\n",
        "from sklearn.linear_model import SGDClassifier\n",
        "\n",
        "from google.colab import drive\n",
        "drive.mount('/content/drive')"
      ],
      "execution_count": 0,
      "outputs": [
        {
          "output_type": "stream",
          "text": [
            "Drive already mounted at /content/drive; to attempt to forcibly remount, call drive.mount(\"/content/drive\", force_remount=True).\n"
          ],
          "name": "stdout"
        }
      ]
    },
    {
      "cell_type": "markdown",
      "metadata": {
        "id": "VKq4x_Smhq6A",
        "colab_type": "text"
      },
      "source": [
        "# Loading the data"
      ]
    },
    {
      "cell_type": "code",
      "metadata": {
        "id": "5zlyZh-3SumV",
        "colab_type": "code",
        "outputId": "aae9d184-3da8-4cdd-8909-797f7c5424a5",
        "colab": {
          "base_uri": "https://localhost:8080/",
          "height": 204
        }
      },
      "source": [
        "# set the seed for entire process\n",
        "# so that results can be reproducible\n",
        "np.random.seed(123)\n",
        "\n",
        "dataset = pd.read_csv(\"/content/drive/My Drive/emotion.data\")\n",
        "dataset.drop(dataset.columns[0], axis='columns', inplace=True)    # drop id column since it won't be used \n",
        "dataset = dataset.reindex(np.random.permutation(dataset.index))   # shuffle data \n",
        "dataset.head()"
      ],
      "execution_count": 0,
      "outputs": [
        {
          "output_type": "execute_result",
          "data": {
            "text/html": [
              "<div>\n",
              "<style scoped>\n",
              "    .dataframe tbody tr th:only-of-type {\n",
              "        vertical-align: middle;\n",
              "    }\n",
              "\n",
              "    .dataframe tbody tr th {\n",
              "        vertical-align: top;\n",
              "    }\n",
              "\n",
              "    .dataframe thead th {\n",
              "        text-align: right;\n",
              "    }\n",
              "</style>\n",
              "<table border=\"1\" class=\"dataframe\">\n",
              "  <thead>\n",
              "    <tr style=\"text-align: right;\">\n",
              "      <th></th>\n",
              "      <th>text</th>\n",
              "      <th>emotions</th>\n",
              "    </tr>\n",
              "  </thead>\n",
              "  <tbody>\n",
              "    <tr>\n",
              "      <th>98301</th>\n",
              "      <td>i am feeling melancholy and have finally pinpo...</td>\n",
              "      <td>sadness</td>\n",
              "    </tr>\n",
              "    <tr>\n",
              "      <th>41147</th>\n",
              "      <td>i miss having someone to talk to who i have th...</td>\n",
              "      <td>joy</td>\n",
              "    </tr>\n",
              "    <tr>\n",
              "      <th>151024</th>\n",
              "      <td>i just feel like i get blamed for everything</td>\n",
              "      <td>sadness</td>\n",
              "    </tr>\n",
              "    <tr>\n",
              "      <th>202104</th>\n",
              "      <td>i also apologize for mentioning about him in m...</td>\n",
              "      <td>anger</td>\n",
              "    </tr>\n",
              "    <tr>\n",
              "      <th>73602</th>\n",
              "      <td>im finding is the difference in having a life ...</td>\n",
              "      <td>joy</td>\n",
              "    </tr>\n",
              "  </tbody>\n",
              "</table>\n",
              "</div>"
            ],
            "text/plain": [
              "                                                     text emotions\n",
              "98301   i am feeling melancholy and have finally pinpo...  sadness\n",
              "41147   i miss having someone to talk to who i have th...      joy\n",
              "151024       i just feel like i get blamed for everything  sadness\n",
              "202104  i also apologize for mentioning about him in m...    anger\n",
              "73602   im finding is the difference in having a life ...      joy"
            ]
          },
          "metadata": {
            "tags": []
          },
          "execution_count": 233
        }
      ]
    },
    {
      "cell_type": "code",
      "metadata": {
        "id": "De2KKYJecsQh",
        "colab_type": "code",
        "outputId": "64fffc05-ef06-4e36-9de3-b0987ee93b3e",
        "colab": {
          "base_uri": "https://localhost:8080/",
          "height": 34
        }
      },
      "source": [
        "dataset.shape"
      ],
      "execution_count": 0,
      "outputs": [
        {
          "output_type": "execute_result",
          "data": {
            "text/plain": [
              "(416809, 2)"
            ]
          },
          "metadata": {
            "tags": []
          },
          "execution_count": 390
        }
      ]
    },
    {
      "cell_type": "code",
      "metadata": {
        "id": "FPZwdzeJa6A7",
        "colab_type": "code",
        "outputId": "4ef3fcac-64e0-4e5d-a036-2425301946d3",
        "colab": {
          "base_uri": "https://localhost:8080/",
          "height": 299
        }
      },
      "source": [
        "#x_ax = np.unique(dataset['emotions'])\n",
        "x_ax = ['joy', 'sadness', 'anger', 'fear', 'love', 'surprise']\n",
        "y_ax = [ np.count_nonzero(dataset['emotions'] == x) for x in x_ax]\n",
        "\n",
        "plt.bar(x_ax, y_ax, color='lightblue')\n",
        "plt.title(\"Distribution of emotions in dataset\")\n",
        "plt.xlabel(\"Emotion\")\n",
        "plt.ylabel(\"Number of occurences\")\n",
        "plt.show()"
      ],
      "execution_count": 0,
      "outputs": [
        {
          "output_type": "display_data",
          "data": {
            "image/png": "[encoded data removed]",
            "text/plain": [
              "<Figure size 432x288 with 1 Axes>"
            ]
          },
          "metadata": {
            "tags": []
          }
        }
      ]
    },
    {
      "cell_type": "code",
      "metadata": {
        "id": "2H7S9DAWzgLP",
        "colab_type": "code",
        "outputId": "15968460-fd2c-474e-e87e-00b9bfaba8d4",
        "colab": {
          "base_uri": "https://localhost:8080/",
          "height": 51
        }
      },
      "source": [
        "label2id = {\"joy\" : 0, \"sadness\" : 1, \"anger\" : 2, \"fear\" : 3, \"love\" : 4, \"surprise\" : 5}\n",
        "id2label = {0 : \"joy\", 1 : \"sadness\", 2 : \"anger\", 3 : \"fear\", 4 : \"love\", 5 : \"surprise\"}\n",
        "\n",
        "# label2id = { label : idx for idx, label in enumerate(set(dataset['emotions'].values))}\n",
        "# id2label = { id : label for label, id in label2id.items()}\n",
        "\n",
        "print(label2id)\n",
        "print(id2label)"
      ],
      "execution_count": 0,
      "outputs": [
        {
          "output_type": "stream",
          "text": [
            "{'joy': 0, 'sadness': 1, 'anger': 2, 'fear': 3, 'love': 4, 'surprise': 5}\n",
            "{0: 'joy', 1: 'sadness', 2: 'anger', 3: 'fear', 4: 'love', 5: 'surprise'}\n"
          ],
          "name": "stdout"
        }
      ]
    },
    {
      "cell_type": "code",
      "metadata": {
        "id": "rRKPFdGqyQX6",
        "colab_type": "code",
        "colab": {}
      },
      "source": [
        "from sklearn.model_selection import train_test_split\n",
        "\n",
        "X_train, X_test, y_train, y_test = train_test_split(dataset['text'].values, \n",
        "                                                    dataset['emotions'].values, \n",
        "                                                    test_size=0.1, \n",
        "                                                    random_state=123)"
      ],
      "execution_count": 0,
      "outputs": []
    },
    {
      "cell_type": "code",
      "metadata": {
        "id": "OBVUfnjkziFU",
        "colab_type": "code",
        "colab": {}
      },
      "source": [
        "y_train = [ label2id[val] for val in y_train]\n",
        "y_test =  [ label2id[val] for val in y_test]"
      ],
      "execution_count": 0,
      "outputs": []
    },
    {
      "cell_type": "code",
      "metadata": {
        "id": "P_CcyPH5Zbqo",
        "colab_type": "code",
        "colab": {}
      },
      "source": [
        "from nltk.stem.porter import PorterStemmer\n",
        "from nltk.corpus import stopwords\n",
        "\n",
        "stop = stopwords.words('english')\n",
        "\n",
        "def tokenizer(text):\n",
        "    ''' Removes stop words and special characters,\n",
        "        and returns list of all words that are left\n",
        "\n",
        "        Parameters\n",
        "        -----------\n",
        "        text : string \n",
        "\n",
        "        Returns\n",
        "        ----------\n",
        "        tokenized : list {string}\n",
        "    '''\n",
        "\n",
        "    text = re.sub('<[^>]*>', '', text)\n",
        "    text = re.sub('[\\W]+', ' ', text.lower()).replace('-', '')\n",
        "    tokenized = [w for w in text.split() if w not in stop]\n",
        "    return tokenized\n",
        "\n",
        "\n",
        "porter = PorterStemmer() \n",
        "def tokenizer_porter(text):\n",
        "  return [porter.stem(word) for word in tokenizer(text)]\n"
      ],
      "execution_count": 0,
      "outputs": []
    },
    {
      "cell_type": "code",
      "metadata": {
        "id": "oAg099A2fIEJ",
        "colab_type": "code",
        "colab": {}
      },
      "source": [
        "# Hashing vectorizer\n",
        "vect = HashingVectorizer(decode_error='ignore', \n",
        "                         n_features=2**21,\n",
        "                         preprocessor=None, \n",
        "                         tokenizer=tokenizer)"
      ],
      "execution_count": 0,
      "outputs": []
    },
    {
      "cell_type": "markdown",
      "metadata": {
        "id": "ux9CHDfahmcy",
        "colab_type": "text"
      },
      "source": [
        "# Training the model\n"
      ]
    },
    {
      "cell_type": "code",
      "metadata": {
        "id": "30isv5kUqU2r",
        "colab_type": "code",
        "outputId": "d085b7aa-bb33-41f5-ff59-e9a2720f9f18",
        "colab": {
          "base_uri": "https://localhost:8080/",
          "height": 51
        }
      },
      "source": [
        "# By setting the los parameter to log loss this becomes a Logistic Regression Classifier\n",
        "clf = SGDClassifier(loss='log', random_state=1, max_iter=1)\n",
        "\n",
        "num_epochs = 100\n",
        "pbar = pyprind.ProgBar(num_epochs)\n",
        "classes = [x for x in label2id.values()]\n",
        "\n",
        "for i in range(num_epochs):\n",
        "\n",
        "    # number of elements in one batch\n",
        "    size = int(len(X_train) / num_epochs)\n",
        "\n",
        "    #starting index of a batch\n",
        "    start = size * i\n",
        "\n",
        "    #last index of a batch\n",
        "    end = start + size \n",
        "\n",
        "    batch_x = X_train[start : end]\n",
        "    batch_y = y_train[start : end]\n",
        "\n",
        "    batch_x = vect.transform(batch_x)\n",
        "    clf.partial_fit(batch_x, batch_y, classes=classes)\n",
        "    pbar.update()\n",
        "\n",
        "# some elements are possibly left over because of integer division\n",
        "# so do one final partial fit\n",
        "batch_x = X_train[end : ]\n",
        "batch_y = y_train[end : ]\n",
        "\n",
        "batch_x = vect.transform(batch_x)\n",
        "clf.partial_fit(batch_x, batch_y, classes=classes)\n",
        "pbar.update()"
      ],
      "execution_count": 0,
      "outputs": [
        {
          "output_type": "stream",
          "text": [
            "0% [##############################] 100% | ETA: 00:00:00\n",
            "Total time elapsed: 00:00:31\n"
          ],
          "name": "stderr"
        }
      ]
    },
    {
      "cell_type": "markdown",
      "metadata": {
        "id": "HAcOqpDumdLD",
        "colab_type": "text"
      },
      "source": [
        "# Test Accuracy\n"
      ]
    },
    {
      "cell_type": "code",
      "metadata": {
        "id": "KXA9pM08f3vV",
        "colab_type": "code",
        "outputId": "a884190b-d953-4d4e-9502-c96403c37d93",
        "colab": {
          "base_uri": "https://localhost:8080/",
          "height": 34
        }
      },
      "source": [
        "test = vect.transform(X_test)\n",
        "print('Accuracy: %.3f' % clf.score(test, y_test))"
      ],
      "execution_count": 0,
      "outputs": [
        {
          "output_type": "stream",
          "text": [
            "Accuracy: 0.842\n"
          ],
          "name": "stdout"
        }
      ]
    },
    {
      "cell_type": "markdown",
      "metadata": {
        "id": "sZH4E9Bpk-U3",
        "colab_type": "text"
      },
      "source": [
        "# Testing on custom data"
      ]
    },
    {
      "cell_type": "code",
      "metadata": {
        "id": "B6QLE_0wufTq",
        "colab_type": "code",
        "colab": {}
      },
      "source": [
        "def predict(text, clf=clf, vectorizer=vect):\n",
        "  ''' Predicts the label of the given text input\n",
        "\n",
        "  Parameters\n",
        "  ----------- \n",
        "  text : string\n",
        "    text whose emotion we want to interpret\n",
        "  clf : sklearn.linear_model\n",
        "    Classifier\n",
        "  vectorizer : sklearn.feature_extraction.text\n",
        "    Vectorizer that represents text in a numerical form\n",
        "  \n",
        "  Returns \n",
        "  ----------\n",
        "  label : string\n",
        "    name of emotion which corresponds to the input\n",
        "\n",
        "  '''\n",
        "\n",
        "  val = clf.predict(vectorizer.transform([text]))\n",
        "  return id2label[val[0]]"
      ],
      "execution_count": 0,
      "outputs": []
    },
    {
      "cell_type": "code",
      "metadata": {
        "id": "Q0cbaKRH_bCE",
        "colab_type": "code",
        "outputId": "dfd6a59b-ffc1-4b9d-e9ba-c31c8de58239",
        "colab": {
          "base_uri": "https://localhost:8080/",
          "height": 34
        }
      },
      "source": [
        "predict(\"Today has been a disaster so far\")"
      ],
      "execution_count": 0,
      "outputs": [
        {
          "output_type": "execute_result",
          "data": {
            "text/plain": [
              "'joy'"
            ]
          },
          "metadata": {
            "tags": []
          },
          "execution_count": 429
        }
      ]
    },
    {
      "cell_type": "code",
      "metadata": {
        "id": "x4I-mUKdu05i",
        "colab_type": "code",
        "outputId": "6b450527-6ab2-4c9d-f3d5-9305b4333c74",
        "colab": {
          "base_uri": "https://localhost:8080/",
          "height": 34
        }
      },
      "source": [
        "predict(\"Today has been a disaster so far. I feel so tired because my stupid boss made me do all his work\")"
      ],
      "execution_count": 0,
      "outputs": [
        {
          "output_type": "execute_result",
          "data": {
            "text/plain": [
              "'sadness'"
            ]
          },
          "metadata": {
            "tags": []
          },
          "execution_count": 430
        }
      ]
    },
    {
      "cell_type": "code",
      "metadata": {
        "id": "bJ7J5DlUvom1",
        "colab_type": "code",
        "colab": {}
      },
      "source": [
        "predict(\"The cucumber looked great, but when I peeled it off, some of it fell apart. But the rest still tasted fine I guess\")"
      ],
      "execution_count": 0,
      "outputs": []
    },
    {
      "cell_type": "code",
      "metadata": {
        "id": "D5rnz8PrTd5E",
        "colab_type": "code",
        "outputId": "6096c4e4-6c3a-41e7-8e11-bfa8b767f215",
        "colab": {
          "base_uri": "https://localhost:8080/",
          "height": 34
        }
      },
      "source": [
        "predict(\"My mom is so stubborn she won't let me go anywhere!\")"
      ],
      "execution_count": 440,
      "outputs": [
        {
          "output_type": "execute_result",
          "data": {
            "text/plain": [
              "'surprise'"
            ]
          },
          "metadata": {
            "tags": []
          },
          "execution_count": 440
        }
      ]
    },
    {
      "cell_type": "code",
      "metadata": {
        "id": "MLY-zypPUZQH",
        "colab_type": "code",
        "outputId": "d77da9e2-24d7-4361-9908-a204c4cb08ce",
        "colab": {
          "base_uri": "https://localhost:8080/",
          "height": 34
        }
      },
      "source": [
        "predict(\"When I found out Kobe Bryant died, i was shocked!\")"
      ],
      "execution_count": 0,
      "outputs": [
        {
          "output_type": "execute_result",
          "data": {
            "text/plain": [
              "'surprise'"
            ]
          },
          "metadata": {
            "tags": []
          },
          "execution_count": 431
        }
      ]
    },
    {
      "cell_type": "code",
      "metadata": {
        "id": "-3YatibuV0Dq",
        "colab_type": "code",
        "outputId": "978f8e26-3da8-40eb-ee2f-23cfe7aad17e",
        "colab": {
          "base_uri": "https://localhost:8080/",
          "height": 51
        }
      },
      "source": [
        "clf.decision_function(vect.transform([\"Today has been a disaster so far\"]))"
      ],
      "execution_count": 0,
      "outputs": [
        {
          "output_type": "execute_result",
          "data": {
            "text/plain": [
              "array([[-0.2515987 , -1.35084614, -1.66514546, -2.52430844, -2.18387111,\n",
              "        -3.02946218]])"
            ]
          },
          "metadata": {
            "tags": []
          },
          "execution_count": 375
        }
      ]
    }
  ]
}